{
 "cells": [
  {
   "cell_type": "markdown",
   "metadata": {},
   "source": [
    "# Detect MGP"
   ]
  },
  {
   "cell_type": "code",
   "execution_count": null,
   "metadata": {},
   "outputs": [],
   "source": [
    "# import the necessary packages\n",
    "import numpy as np\n",
    "import argparse\n",
    "import glob\n",
    "import os,sys\n",
    "import cv2\n",
    "\n",
    "\n",
    "# set up arrays for output\n",
    "all_circles_as_array = []\n",
    "filename = []\n",
    "cx = []\n",
    "cy = []\n",
    "cr = []"
   ]
  },
  {
   "cell_type": "markdown",
   "metadata": {},
   "source": [
    "# Extract circles from map images"
   ]
  },
  {
   "cell_type": "markdown",
   "metadata": {},
   "source": [
    "## Define circle finder"
   ]
  },
  {
   "cell_type": "code",
   "execution_count": null,
   "metadata": {},
   "outputs": [],
   "source": [
    "# define circles function\n",
    "import cv2\n",
    "import glob\n",
    "import numpy as np\n",
    "import os,sys\n",
    "\n",
    "def find_circles(rmin, rmax, min_dist, p2):\n",
    "    circles = cv2.HoughCircles(blur,cv2.HOUGH_GRADIENT,1,min_dist,\n",
    "                                param1=p1,param2=p2,minRadius=rmin,maxRadius=rmax)\n",
    "    if circles is not None:\n",
    "        circles = np.round(circles[0, :]).astype(\"int\")\n",
    "        for (x, y, r) in circles:\n",
    "            try:\n",
    "                box = int(mult*r)\n",
    "                box = int(mult*r)\n",
    "                ROI = gray[y-box:y+box, x-box:x+box]\n",
    "                ROI = cv2.resize(ROI, (64,64))\n",
    "                all_circles_as_array.append(ROI)\n",
    "                filename.append(imgname)\n",
    "                cx.append(x)\n",
    "                cy.append(y)\n",
    "                cr.append(r)\n",
    "            except:\n",
    "                continue"
   ]
  },
  {
   "cell_type": "markdown",
   "metadata": {},
   "source": [
    "## Set circle parameters"
   ]
  },
  {
   "cell_type": "code",
   "execution_count": null,
   "metadata": {},
   "outputs": [],
   "source": [
    "################################## parameters ##################################\n",
    "# global circles params\n",
    "p1 = 20\n",
    "# blur\n",
    "b1 = 3\n",
    "b2 = 3\n",
    "\n",
    "# how much to increase bounding box around circle ROI\n",
    "mult = 1.2\n",
    "\n",
    "# define pass 1\n",
    "min1 = 15\n",
    "max1 = 40\n",
    "dist1 = 20\n",
    "p2_1 = 65\n",
    "\n",
    "# define pass 2\n",
    "min2 = 41\n",
    "max2 = 70\n",
    "dist2 = 40\n",
    "p2_2 = 70\n",
    "\n",
    "# define pass 3\n",
    "min3 = 71\n",
    "max3 = 130\n",
    "dist3 = 70\n",
    "p2_3 = 75"
   ]
  },
  {
   "cell_type": "markdown",
   "metadata": {},
   "source": [
    "## Find circles"
   ]
  },
  {
   "cell_type": "code",
   "execution_count": null,
   "metadata": {},
   "outputs": [],
   "source": [
    "# load filenames\n",
    "# images are placed in folders within the input directory\n",
    "\n",
    "inpath = 'input/***/*.jpg'\n",
    "imgnames = sorted(glob.glob(inpath))\n",
    "\n",
    "# exclude files that include 'ind', 'titl', or 'covr' in filenames, as well as index maps, which generally include '0000'\n",
    "imgnames = [ x for x in imgnames if \"ind\" not in x and \"titl\" not in x and 'covr' not in x and 'cbd' not in x and '0000' not in x]\n",
    "\n",
    "# load images\n",
    "for imgname in imgnames:\n",
    "    image = cv2.imread(imgname)\n",
    "    gray = cv2.cvtColor(image, cv2.COLOR_BGR2GRAY)\n",
    "    blur = cv2.GaussianBlur(gray,(b1,b2),0)\n",
    "\n",
    "# find the circles!\n",
    "    find_circles(min1, max1, dist1, p2_1)\n",
    "    find_circles(min2, max2, dist2, p2_2)\n",
    "    find_circles(min3, max3, dist3, p2_3)\n",
    "\n",
    "# Construct the arrays\n",
    "# X and filename arrays will be used for analysis below\n",
    "X , filename = np.array(all_circles_as_array), np.array(filename)\n",
    "print(\":::::Circles found, input to array:::::\")\n",
    "print((\"X array: \") + str(X.shape))"
   ]
  },
  {
   "cell_type": "markdown",
   "metadata": {},
   "source": [
    "# Classify circular features"
   ]
  },
  {
   "cell_type": "markdown",
   "metadata": {},
   "source": [
    "## Import CNN models"
   ]
  },
  {
   "cell_type": "code",
   "execution_count": null,
   "metadata": {},
   "outputs": [],
   "source": [
    "# import CNN models\n",
    "import tensorflow as tf\n",
    "\n",
    "\n",
    "models = list()\n",
    "for model in range(0,5):\n",
    "    path = 'ML_models/ensemblemodel' + '-' + str(model)\n",
    "    model = tf.keras.models.load_model(path)\n",
    "    models.append(model)"
   ]
  },
  {
   "cell_type": "markdown",
   "metadata": {},
   "source": [
    "## Import MLP models"
   ]
  },
  {
   "cell_type": "code",
   "execution_count": null,
   "metadata": {},
   "outputs": [],
   "source": [
    "# import MLP models\n",
    "\n",
    "import pickle as pkl\n",
    "file = open('ML_models/MLP/mlp_models.pkl', 'rb')\n",
    "\n",
    "pipes = pkl.load(file)"
   ]
  },
  {
   "cell_type": "markdown",
   "metadata": {},
   "source": [
    "## Run classifiers"
   ]
  },
  {
   "cell_type": "code",
   "execution_count": null,
   "metadata": {},
   "outputs": [],
   "source": [
    "# define thresholds and run models\n",
    "CNNthresh = 0.2\n",
    "MLPthresh = 0.9\n",
    "\n",
    "# reshape X array to 2-dimensions for MLP\n",
    "nsamples, nx, ny = X.shape\n",
    "X_mlp = X.reshape((nsamples, nx*ny))\n",
    "\n",
    "y_p_mlp = [pipe.predict_proba(X_mlp)[:,1] for pipe in pipes]\n",
    "y_p_mlp = np.array(y_p_mlp)\n",
    "y_p_mlp = np.mean(y_p_mlp, axis=0\n",
    "\n",
    "y_p_cnn = [model.predict(X)[:,1] for model in models]\n",
    "y_p_cnn = np.array(y_p_cnn)\n",
    "y_p_cnn = np.mean(y_p_cnn, axis=0)"
   ]
  },
  {
   "cell_type": "code",
   "execution_count": null,
   "metadata": {},
   "outputs": [],
   "source": [
    "# combine MLP and CNN predictions\n",
    "y_p_all = (y_p_cnn*MLPthresh/CNNthresh + y_p_mlp*CNNthresh/MLPthresh)\n",
    "\n",
    "# produce binary prediction\n",
    "ALLthresh = 1.2\n",
    "y_p_final = (y_p_all > ALLthresh).astype('int32')"
   ]
  },
  {
   "cell_type": "code",
   "execution_count": null,
   "metadata": {},
   "outputs": [],
   "source": [
    "# export prediction results to CSV, including MLP, CNN, and combined prediction for each circular feature\n",
    "# this allows you to select filenames according to your own thresholds for MLP, CNN, or combined predictions; or to use the binary threshold defined above\n",
    "# you can use basic dataframe operations to produce a list of unique filenames, which you can then use to extract files from the original input data for manual inspection\n",
    "\n",
    "import pandas as pd\n",
    "dffile = pd.DataFrame(filenames)\n",
    "\n",
    "dfy_p_all = pd.DataFrame(y_p_all)\n",
    "dfy_p_final = pd.DataFrame(y_p_final)\n",
    "dfy_p_CNN = pd.DataFrame(y_p_CNN)\n",
    "dfy_p_MLP = pd.DataFrame(y_p_MLP)\n",
    "\n",
    "df = pd.concat([dffile, dfy_p_all, dfy_p_final, dfy_p_CNN, dfy_p_MLP], axis=1)\n",
    "\n",
    "df.columns = ['file', 'combined_prediction', 'binary_prediction', 'cnn_prediction', 'mlp_prediction']\n",
    "\n",
    "df.to_csv (r'output.csv', index = False)"
   ]
  }
 ],
 "metadata": {
  "kernelspec": {
   "display_name": "Python 3",
   "language": "python",
   "name": "python3"
  },
  "language_info": {
   "codemirror_mode": {
    "name": "ipython",
    "version": 3
   },
   "file_extension": ".py",
   "mimetype": "text/x-python",
   "name": "python",
   "nbconvert_exporter": "python",
   "pygments_lexer": "ipython3",
   "version": "3.9.4"
  }
 },
 "nbformat": 4,
 "nbformat_minor": 4
}
